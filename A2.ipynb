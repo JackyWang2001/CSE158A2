{
 "cells": [
  {
   "cell_type": "code",
   "execution_count": 1,
   "id": "78605218-3578-4d19-809e-72c4bcfa2839",
   "metadata": {},
   "outputs": [
    {
     "ename": "SyntaxError",
     "evalue": "unexpected EOF while parsing (utils.py, line 31)",
     "output_type": "error",
     "traceback": [
      "Traceback \u001b[0;36m(most recent call last)\u001b[0m:\n",
      "  File \u001b[1;32m\"/home/jpl/anaconda3/envs/dl/lib/python3.7/site-packages/IPython/core/interactiveshell.py\"\u001b[0m, line \u001b[1;32m3444\u001b[0m, in \u001b[1;35mrun_code\u001b[0m\n    exec(code_obj, self.user_global_ns, self.user_ns)\n",
      "\u001b[0;36m  File \u001b[0;32m\"/tmp/ipykernel_4005/2470043901.py\"\u001b[0;36m, line \u001b[0;32m8\u001b[0;36m, in \u001b[0;35m<module>\u001b[0;36m\u001b[0m\n\u001b[0;31m    import utils\u001b[0m\n",
      "\u001b[0;36m  File \u001b[0;32m\"/home/jpl/Documents/CSE158/CSE158A2/utils.py\"\u001b[0;36m, line \u001b[0;32m31\u001b[0m\n\u001b[0;31m    \u001b[0m\n\u001b[0m    ^\u001b[0m\n\u001b[0;31mSyntaxError\u001b[0m\u001b[0;31m:\u001b[0m unexpected EOF while parsing\n"
     ]
    }
   ],
   "source": [
    "import os\n",
    "import json\n",
    "\n",
    "import numpy as np\n",
    "import pandas as pd\n",
    "import torch\n",
    "\n",
    "import utils"
   ]
  },
  {
   "cell_type": "code",
   "execution_count": null,
   "id": "0491818b-e0f5-4b09-a23c-7a687ffa288c",
   "metadata": {},
   "outputs": [],
   "source": [
    "utils.set_random_seed()"
   ]
  },
  {
   "cell_type": "code",
   "execution_count": null,
   "id": "df6f5274-51c5-4cf1-9a4d-0eb4d3d23ab5",
   "metadata": {},
   "outputs": [],
   "source": [
    "path = os.path.join(\"data\", \"reviews.json\")\n",
    "data = utils.read_data(path)\n",
    "train_data, test_data = data[:int(len(data) * 0.8)], data[int(len(data) * 0.8):]"
   ]
  },
  {
   "cell_type": "code",
   "execution_count": 5,
   "id": "8da66371-860d-47df-9ded-7026aef78606",
   "metadata": {},
   "outputs": [
    {
     "data": {
      "text/plain": [
       "{'work': '3206242',\n",
       " 'flags': [],\n",
       " 'unixtime': 1194393600,\n",
       " 'stars': 5.0,\n",
       " 'nhelpful': 0,\n",
       " 'time': 'Nov 7, 2007',\n",
       " 'comment': 'This a great book for young readers to be introduced to the world of Middle Earth. ',\n",
       " 'user': 'van_stef'}"
      ]
     },
     "execution_count": 5,
     "metadata": {},
     "output_type": "execute_result"
    }
   ],
   "source": [
    "data[0]"
   ]
  },
  {
   "cell_type": "code",
   "execution_count": null,
   "id": "6b001d65-3119-450f-8fcf-2d4550638baa",
   "metadata": {},
   "outputs": [],
   "source": []
  }
 ],
 "metadata": {
  "kernelspec": {
   "display_name": "Python 3 (ipykernel)",
   "language": "python",
   "name": "python3"
  },
  "language_info": {
   "codemirror_mode": {
    "name": "ipython",
    "version": 3
   },
   "file_extension": ".py",
   "mimetype": "text/x-python",
   "name": "python",
   "nbconvert_exporter": "python",
   "pygments_lexer": "ipython3",
   "version": "3.7.11"
  }
 },
 "nbformat": 4,
 "nbformat_minor": 5
}
